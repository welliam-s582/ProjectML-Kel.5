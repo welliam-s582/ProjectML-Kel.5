{
 "cells": [
  {
   "cell_type": "code",
   "execution_count": 1,
   "metadata": {},
   "outputs": [],
   "source": [
    "import numpy as np\n",
    "import tensorflow as tf\n",
    "from tensorflow import keras\n",
    "import os\n",
    "import matplotlib.pyplot as plt\n",
    "import cv2\n",
    "from tensorflow.keras.layers import Dense,Dropout,Conv2D,MaxPooling2D,Flatten"
   ]
  },
  {
   "cell_type": "code",
   "execution_count": null,
   "metadata": {},
   "outputs": [],
   "source": [
    "train_dir=\"D:/ProgramingIntepreter/Files/tensor/DataSet/train/train\"\n",
    "len(os.listdir(train_dir))"
   ]
  },
  {
   "cell_type": "code",
   "execution_count": null,
   "metadata": {},
   "outputs": [],
   "source": [
    "test_dir=\"D:/ProgramingIntepreter/Files/tensor/DataSet/test/test\"\n",
    "len(os.listdir(test_dir))"
   ]
  },
  {
   "cell_type": "code",
   "execution_count": 23,
   "metadata": {},
   "outputs": [],
   "source": [
    "imagefiles=[os.path.join(train_dir,f) for f in os.listdir(train_dir)] "
   ]
  },
  {
   "cell_type": "code",
   "execution_count": null,
   "metadata": {},
   "outputs": [],
   "source": [
    "cnt_dog,cnt_cat=0,0\n",
    "for i in imagefiles:\n",
    "    if i.split(\"\\\\\")[-1].split('.')[0] == \"dog\":\n",
    "        cnt_dog+=1\n",
    "    else:\n",
    "        cnt_cat+=1\n",
    "\n",
    "print(cnt_cat,cnt_dog)"
   ]
  },
  {
   "cell_type": "code",
   "execution_count": 4,
   "metadata": {},
   "outputs": [],
   "source": [
    "IMG_SIZE = 64 \n",
    "CATEGORIES = [\"cat\", \"dog\"] "
   ]
  },
  {
   "cell_type": "code",
   "execution_count": 5,
   "metadata": {},
   "outputs": [],
   "source": [
    "def train_data():\n",
    "    train_data=[]\n",
    "    labels=[]\n",
    "    images=[]\n",
    "    \n",
    "    imagefiles=[os.path.join(train_dir,f) for f in os.listdir(train_dir)]\n",
    "    for image in imagefiles:\n",
    "        category = image.split('\\\\')[-1].split('.')[0] \n",
    "        img_array = cv2.imread(image, cv2.IMREAD_GRAYSCALE)\n",
    "        new_array = cv2.resize(img_array, (IMG_SIZE, IMG_SIZE))\n",
    "        train_data.append([new_array, CATEGORIES.index(category)]) \n",
    "        np.random.shuffle(train_data) \n",
    "    for features,label in train_data: \n",
    "        images.append(features)\n",
    "        labels.append(label) \n",
    "    images = np.array(images).reshape(-1, IMG_SIZE, IMG_SIZE, 1) \n",
    "    \n",
    "    return images, labels\n",
    "\n",
    "features,labels=train_data()"
   ]
  },
  {
   "cell_type": "code",
   "execution_count": 6,
   "metadata": {},
   "outputs": [],
   "source": [
    "def create_testing_data():\n",
    "    test_images=[]\n",
    "    paths_test=[]\n",
    "    images_test=[]\n",
    "    \n",
    "    imagefiles = [os.path.join(test_dir,f) for f in os.listdir(test_dir)]\n",
    "    for image in imagefiles:\n",
    "        img_array = cv2.imread(image, cv2.IMREAD_GRAYSCALE)\n",
    "        new_array = cv2.resize(img_array, (IMG_SIZE, IMG_SIZE))\n",
    "        test_images .append([new_array,image]) \n",
    "        np.random.shuffle(test_images)\n",
    "    for features_test,path_test in test_images: \n",
    "        images_test.append(features_test)\n",
    "        paths_test.append(path_test)\n",
    "    #images_test = np.array(images_test).reshape(-1, IMG_SIZE, IMG_SIZE, 1)\n",
    "    return images_test, paths_test\n",
    "\n",
    "\n",
    "test_images,paths_test = create_testing_data()"
   ]
  },
  {
   "cell_type": "code",
   "execution_count": 7,
   "metadata": {},
   "outputs": [],
   "source": [
    "X_train = features / 255.0 \n",
    "X_test = np.array(test_images).reshape(-1, IMG_SIZE, IMG_SIZE, 1) / 255.0 \n",
    "\n",
    "y_train = np.array(labels) "
   ]
  },
  {
   "cell_type": "code",
   "execution_count": 8,
   "metadata": {},
   "outputs": [],
   "source": [
    "input_shape=(IMG_SIZE,IMG_SIZE,1)"
   ]
  },
  {
   "cell_type": "code",
   "execution_count": 9,
   "metadata": {},
   "outputs": [],
   "source": [
    "def model_1(): \n",
    "    model=keras.Sequential() \n",
    "    \n",
    "    model.add(Conv2D(filters=64,kernel_size=(3,3),activation='relu',input_shape=input_shape)) \n",
    "    model.add(MaxPooling2D(pool_size=(2,2))) \n",
    "    model.add(Dropout(0.20)) \n",
    "\n",
    "    model.add(Conv2D(filters=64,kernel_size=(3,3),activation='relu'))\n",
    "    model.add(MaxPooling2D(pool_size=(2,2)))\n",
    "    model.add(Dropout(0.30))\n",
    "\n",
    "    model.add(Conv2D(filters=32,kernel_size=(3,3),activation='relu'))\n",
    "    model.add(MaxPooling2D(pool_size=(2,2)))\n",
    "    model.add(Dropout(0.1))\n",
    "\n",
    "    #Add Dense layers on top\n",
    "    model.add(Flatten()) \n",
    "    model.add(Dense(32,activation='relu')) \n",
    "    model.add(Dense(2,activation='sigmoid'))\n",
    "\n",
    "    return model"
   ]
  },
  {
   "cell_type": "code",
   "execution_count": 20,
   "metadata": {},
   "outputs": [],
   "source": [
    "def show_pred_and_pic(picture,prediction):\n",
    "    cnt=1\n",
    "    fig=plt.figure(figsize=(60,60)) \n",
    "\n",
    "    for i in picture[:5]:  \n",
    "        img_array = cv2.imread(i) \n",
    "        fig.add_subplot(10, 10, cnt) \n",
    "        plt.axis(\"off\")\n",
    "        plt.imshow(cv2.cvtColor(img_array,cv2.COLOR_BGR2RGB)) \n",
    "        if np.argmax(prediction[cnt-1]) == 0:\n",
    "            plt.title(\"Cat\")\n",
    "        else:\n",
    "            plt.title(\"Dog\")\n",
    "\n",
    "        cnt+=1"
   ]
  },
  {
   "cell_type": "code",
   "execution_count": null,
   "metadata": {},
   "outputs": [],
   "source": [
    "def show_graph(history):\n",
    "    plt.plot(history.history['accuracy'])\n",
    "    plt.plot(history.history['val_accuracy'])\n",
    "    plt.title('model accuracy')\n",
    "    plt.ylabel('accuracy')\n",
    "    plt.xlabel('epoch')\n",
    "    plt.legend(['train', 'test'], loc='upper left')\n",
    "    plt.show()"
   ]
  },
  {
   "cell_type": "code",
   "execution_count": 12,
   "metadata": {},
   "outputs": [],
   "source": [
    "model1=model_1() \n",
    "model1.compile(\n",
    "    optimizer='adam',\n",
    "    loss='sparse_categorical_crossentropy',\n",
    "    metrics=['accuracy']\n",
    "             )"
   ]
  },
  {
   "cell_type": "code",
   "execution_count": null,
   "metadata": {},
   "outputs": [],
   "source": [
    "history=model1.fit(X_train,y_train,epochs=10,batch_size=256,validation_split=0.15) #Train model1 dengan 10 Epoch\n",
    "y_pred1=model1.predict(X_test)\n",
    "#show_pred_and_pic(paths_test,y_pred1)\n",
    "\n",
    "# summarize history for accuracy\n",
    "show_graph(history)"
   ]
  },
  {
   "cell_type": "code",
   "execution_count": null,
   "metadata": {},
   "outputs": [],
   "source": [
    "history=model1.fit(X_train,y_train,epochs=40,batch_size=256,validation_split=0.15) #Train model1 dengan 50 Epoch\n",
    "y_pred1=model1.predict(X_test)\n",
    "#show_pred_and_pic(paths_test,y_pred1)\n",
    "\n",
    "# summarize history for accuracy\n",
    "show_graph(history)"
   ]
  },
  {
   "cell_type": "code",
   "execution_count": null,
   "metadata": {},
   "outputs": [],
   "source": [
    "history=model1.fit(X_train,y_train,epochs=25,batch_size=256,validation_split=0.15)#Train model1 dengan 75 Epoch\n",
    "y_pred1=model1.predict(X_test)\n",
    "#show_pred_and_pic(paths_test,y_pred1)\n",
    "\n",
    "# summarize history for accuracy\n",
    "show_graph(history)"
   ]
  },
  {
   "cell_type": "code",
   "execution_count": null,
   "metadata": {},
   "outputs": [],
   "source": [
    "history=model1.fit(X_train,y_train,epochs=25,batch_size=256,validation_split=0.15)#Train model1 dengan 100 Epoch\n",
    "y_pred1=model1.predict(X_test)\n",
    "#show_pred_and_pic(paths_test,y_pred1)\n",
    "\n",
    "# summarize history for accuracy\n",
    "show_graph(history)"
   ]
  }
 ],
 "metadata": {
  "interpreter": {
   "hash": "6cc3dc91cb07dbfb50b9616662304cdc1c041541e742be50db244b07b9bba530"
  },
  "kernelspec": {
   "display_name": "Python 3.8.8 64-bit ('base': conda)",
   "language": "python",
   "name": "python3"
  },
  "language_info": {
   "codemirror_mode": {
    "name": "ipython",
    "version": 3
   },
   "file_extension": ".py",
   "mimetype": "text/x-python",
   "name": "python",
   "nbconvert_exporter": "python",
   "pygments_lexer": "ipython3",
   "version": "3.8.8"
  },
  "orig_nbformat": 4
 },
 "nbformat": 4,
 "nbformat_minor": 2
}
